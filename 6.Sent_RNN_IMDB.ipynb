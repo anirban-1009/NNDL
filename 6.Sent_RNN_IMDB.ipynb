{
 "cells": [
  {
   "cell_type": "code",
   "execution_count": 7,
   "id": "6c9ce649",
   "metadata": {},
   "outputs": [],
   "source": [
    "import numpy as np # linear algebra\n",
    "import pandas as pd # data processing, CSV file I/O (e.g. pd.read_csv)\n",
    "import seaborn as sns\n",
    "import matplotlib.pyplot as plt\n",
    "%matplotlib inline\n",
    "\n",
    "from scipy import stats\n",
    "from keras.datasets import imdb\n",
    "from keras_preprocessing.sequence import pad_sequences \n",
    "from keras.models import Sequential\n",
    "from keras.layers import Embedding\n",
    "from keras.layers import SimpleRNN,Dense,Activation\n",
    "\n",
    "# Input data files are available in the read-only \"../input/\" directory\n",
    "# For example, running this (by clicking run or pressing Shift+Enter) will list all files under the input directory\n",
    "\n",
    "import os\n",
    "for dirname, _, filenames in os.walk('/kaggle/input'):\n",
    "    for filename in filenames:\n",
    "        print(os.path.join(dirname, filename))\n"
   ]
  },
  {
   "cell_type": "code",
   "execution_count": 8,
   "id": "560db031",
   "metadata": {},
   "outputs": [],
   "source": [
    "(X_train,Y_train),(X_test,Y_test) = imdb.load_data(path=\"imdb.npz\",num_words=None,skip_top=0,maxlen=None,start_char=1,seed=13,oov_char=2,index_from=3)"
   ]
  },
  {
   "cell_type": "code",
   "execution_count": 9,
   "id": "8ed7ea1c",
   "metadata": {},
   "outputs": [
    {
     "name": "stdout",
     "output_type": "stream",
     "text": [
      "the\n",
      "! this movie was extremely funny i would like to own this for my vintage collection of 1970s movie must see again list i know this cast of characters they are people that i have met over the years and that prompt me to search out this comedy unfortunately this was never put to dvd or vhs redd foxx always a clown of comedy pearl baily a great match as his wife witty and sassy norman a son with a secret not sure if he will have a future if it is out dennis dugan crazy funny man miss dobson hooker with a heart and little conscience love lust strange family ties this movie qualifies for a come back encore performance situation comedy with a mix of events as this could and should find its way as a remake i do think finding cast would be extremely difficult maybe impossible except jerry seinfeld playing dennis dugan role this earmarks a couple of seinfeld episodes that also brought me back to norman is that you keeping them in the closest was surely impossible as impossible to reform pretend hooker girl friend and infidelity of a parent this movie was a wild ride advise of a cabbie remind me of episode kramer takes advice of his caddie over his lawyer episode from seinfeld the parents have there jaw dropping moment fun over fun it is screaming bring me back\n",
      "1\n",
      "! quite possibly how francis veber one of the best comedy directors in the world at least when sticking to his native france managed to turn in a film so completely unwatchable is beyond the reason of mere mortal man to discern it's not just that the characters are so unlikeable or that the film is so utterly devoid of even the lowest form of wit it's genuinely physically painful to watch such an endless parade of inept writing acting and film making that you cannot believe this is the work of experienced and talented filmmakers for once the near eternity spent in the cutting room and on the shelf before its blink and you'll miss it theatrical release tells the whole story what were they thinking\n",
      "0\n",
      "X train shape:  (25000, 130)\n",
      "[   0    0    0    0    0    0    0    0    0    0    0    0    0    0\n",
      "    0    0    0    0    0    0    0    0    0    0    0    0    0    0\n",
      "    0    0    0    0    0    0    0    0    0    0    0    0    0    0\n",
      "    0    0    0    0    0    0    0    0    0    0    0    0    0    0\n",
      "    0    0    0    0    0    0    0    0    0    0    0    0    0    0\n",
      "    0    0    0    0    0    0    0    0    0    0    0    0    0    0\n",
      "    0    0    0    1  778  128   74   12  630  163   15    4 1766 7982\n",
      " 1051    2   32   85  156   45   40  148  139  121  664  665   10   10\n",
      " 1361  173    4  749    2   16 3804    8    4  226   65   12   43  127\n",
      "   24    2   10   10]\n",
      "130\n",
      "130\n",
      "130\n",
      "130\n",
      "130\n",
      "130\n",
      "130\n",
      "130\n",
      "130\n",
      "130\n",
      "! ! ! ! ! ! ! ! ! ! ! ! ! ! ! ! ! ! ! ! ! ! ! ! ! ! ! ! ! ! ! ! ! ! ! ! ! ! ! ! ! ! ! ! ! ! ! ! ! ! ! ! ! ! ! ! ! ! ! ! ! ! ! ! ! ! ! ! ! ! ! ! ! ! ! ! ! ! ! ! ! ! ! ! ! ! ! ! begins better than it ends funny that the russian submarine crew ! all other actors it's like those scenes where documentary shots br br spoiler part the message ! was contrary to the whole story it just does not ! br br\n",
      "0\n"
     ]
    }
   ],
   "source": [
    "review_len_train = []\n",
    "review_len_test = []\n",
    "for i,j in zip(X_train,X_test):\n",
    "    review_len_train.append(len(i))\n",
    "    review_len_test.append(len(j))\n",
    "word_index = imdb.get_word_index()\n",
    "\n",
    "for keys,values in word_index.items():\n",
    "    if values == 1:\n",
    "        print(keys)\n",
    "        \n",
    "def whatItSay(index=24):\n",
    "    reverse_index = dict([(value,key) for (key,value) in word_index.items()])\n",
    "    decode_review = \" \".join([reverse_index.get(i-3, \"!\") for i in X_train[index]])\n",
    "    print(decode_review)\n",
    "    print(Y_train[index])\n",
    "    return decode_review\n",
    "\n",
    "decoded_review = whatItSay()\n",
    "decoded_review = whatItSay(5)\n",
    "\n",
    "num_words = 15000\n",
    "(X_train,Y_train),(X_test,Y_test) = imdb.load_data(num_words=num_words)\n",
    "\n",
    "maxlen=130\n",
    "X_train = pad_sequences(X_train, maxlen=maxlen)\n",
    "X_test = pad_sequences(X_test, maxlen=maxlen)\n",
    "\n",
    "print(\"X train shape: \",X_train.shape)\n",
    "print(X_train[5])\n",
    "for i in X_train[0:10]:\n",
    "    print(len(i))\n",
    "\n",
    "decoded_review = whatItSay(5)"
   ]
  },
  {
   "cell_type": "code",
   "execution_count": 10,
   "id": "bccb5e8c",
   "metadata": {},
   "outputs": [
    {
     "name": "stdout",
     "output_type": "stream",
     "text": [
      "Model: \"sequential_1\"\n",
      "_________________________________________________________________\n",
      " Layer (type)                Output Shape              Param #   \n",
      "=================================================================\n",
      " embedding_1 (Embedding)     (None, 130, 32)           480000    \n",
      "                                                                 \n",
      " simple_rnn_1 (SimpleRNN)    (None, 16)                784       \n",
      "                                                                 \n",
      " dense_1 (Dense)             (None, 1)                 17        \n",
      "                                                                 \n",
      " activation_1 (Activation)   (None, 1)                 0         \n",
      "                                                                 \n",
      "=================================================================\n",
      "Total params: 480,801\n",
      "Trainable params: 480,801\n",
      "Non-trainable params: 0\n",
      "_________________________________________________________________\n",
      "None\n",
      "Epoch 1/5\n",
      "196/196 [==============================] - 8s 33ms/step - loss: 0.5858 - accuracy: 0.7082 - val_loss: 0.4308 - val_accuracy: 0.8182\n",
      "Epoch 2/5\n",
      "196/196 [==============================] - 7s 35ms/step - loss: 0.3714 - accuracy: 0.8416 - val_loss: 0.3534 - val_accuracy: 0.8502\n",
      "Epoch 3/5\n",
      "196/196 [==============================] - 7s 35ms/step - loss: 0.2793 - accuracy: 0.8857 - val_loss: 0.3137 - val_accuracy: 0.8668\n",
      "Epoch 4/5\n",
      "196/196 [==============================] - 7s 35ms/step - loss: 0.2286 - accuracy: 0.9088 - val_loss: 0.3509 - val_accuracy: 0.8606\n",
      "Epoch 5/5\n",
      "196/196 [==============================] - 7s 36ms/step - loss: 0.1980 - accuracy: 0.9216 - val_loss: 0.3616 - val_accuracy: 0.8625\n",
      "782/782 [==============================] - 4s 5ms/step - loss: 0.3616 - accuracy: 0.8625\n",
      "accuracy: 86.25199794769287\n"
     ]
    }
   ],
   "source": [
    "rnn = Sequential()\n",
    "\n",
    "rnn.add(Embedding(num_words,32,input_length =len(X_train[0]))) # num_words=15000\n",
    "rnn.add(SimpleRNN(16,input_shape = (num_words,maxlen), return_sequences=False,activation=\"relu\"))\n",
    "rnn.add(Dense(1)) #flatten\n",
    "rnn.add(Activation(\"sigmoid\")) #using sigmoid for binary classification\n",
    "\n",
    "print(rnn.summary())\n",
    "rnn.compile(loss=\"binary_crossentropy\",optimizer=\"rmsprop\",metrics=[\"accuracy\"])\n",
    "\n",
    "history = rnn.fit(X_train,Y_train,validation_data = (X_test,Y_test),epochs = 5,batch_size=128,verbose = 1)\n",
    "\n",
    "score = rnn.evaluate(X_test,Y_test)\n",
    "print(\"accuracy:\", score[1]*100)"
   ]
  },
  {
   "cell_type": "code",
   "execution_count": null,
   "id": "f1c37a12",
   "metadata": {},
   "outputs": [],
   "source": []
  }
 ],
 "metadata": {
  "kernelspec": {
   "display_name": "Python 3 (ipykernel)",
   "language": "python",
   "name": "python3"
  },
  "language_info": {
   "codemirror_mode": {
    "name": "ipython",
    "version": 3
   },
   "file_extension": ".py",
   "mimetype": "text/x-python",
   "name": "python",
   "nbconvert_exporter": "python",
   "pygments_lexer": "ipython3",
   "version": "3.9.12"
  }
 },
 "nbformat": 4,
 "nbformat_minor": 5
}
